{
 "cells": [
  {
   "cell_type": "markdown",
   "metadata": {
    "colab_type": "text",
    "id": "view-in-github"
   },
   "source": [
    "<a href=\"https://colab.research.google.com/github/meichenfang/Poisson-regression/blob/main/Bursty.ipynb\" target=\"_parent\"><img src=\"https://colab.research.google.com/assets/colab-badge.svg\" alt=\"Open In Colab\"/></a>"
   ]
  },
  {
   "cell_type": "markdown",
   "metadata": {
    "id": "1100hO-K5kO2"
   },
   "source": [
    "# Introduction\n",
    "\n",
    "**Denote the gene expression matrix by $X_{ij}$ where j is gene index and i is cell index. In summary, we assume a specific model of transcription and want to solve**\n",
    "\n",
    "\\begin{align}\n",
    "    & \\text{argmax}_{\\theta_j} \\sum_{j} \\sum_i \\ln P(\\mathcal{X}_{ij},t_i; \\theta_j,\\tau).\n",
    "\\end{align}\n",
    "\n",
    "We assume t follows a uniform distribution on [0,1]. We use alternative minimization/EM-like algorithm to find optimal θ."
   ]
  },
  {
   "cell_type": "code",
   "execution_count": 80,
   "metadata": {
    "id": "9CQ902cj9MAx"
   },
   "outputs": [],
   "source": [
    "import time\n",
    "import scipy "
   ]
  },
  {
   "cell_type": "markdown",
   "metadata": {
    "id": "dG0dU-HhW7Gq"
   },
   "source": [
    "## Inhomogeneous frequency bursty"
   ]
  },
  {
   "cell_type": "code",
   "execution_count": 41,
   "metadata": {
    "id": "zYOHgPKme_9M"
   },
   "outputs": [],
   "source": [
    "# -*- coding: utf-8 -*-\n",
    "\n",
    "# Scientific computing imports\n",
    "import numpy as np\n",
    "from numpy.fft import irfftn\n",
    "from numpy.random import choice\n",
    "from scipy.stats import poisson, nbinom\n",
    "import matplotlib.pyplot as plt\n",
    "\n",
    "def get_P(theta, t, mx):\n",
    "    # theta = a_1,..., u0, s0, beta, gamma, b\n",
    "    K = len(theta-5)\n",
    "    b = theta[-1]\n",
    "    gamma = theta[-2]\n",
    "    beta = theta[-3]\n",
    "    \n",
    "    # Get generating function argument u\n",
    "    us = []\n",
    "    half = mx[:]\n",
    "    half[-1] = mx[-1]//2 + 1\n",
    "    half[0] = mx[0]//2 + 1\n",
    "    for i in range(len(mx)):\n",
    "        l = np.arange(half[i])\n",
    "        u_ = np.exp(-2j*np.pi*l/mx[i])-1\n",
    "        us.append(u_)\n",
    "    u = np.meshgrid(*[u_ for u_ in us], indexing='ij')\n",
    "    for i in range(len(mx)):\n",
    "        u[i] = u[i].flatten()\n",
    "    \n",
    "    # Get generating function\n",
    "    beta_0 = beta\n",
    "    beta_1 = gamma\n",
    "    \n",
    "    c0 = (g[0]) + (beta_0/(beta_1 - beta_0))*(g[1])       #  relevant linear combinations of g_i\n",
    "    c1 = - (beta_0/(beta_1 - beta_0))*(g[1])   \n",
    "    \n",
    "    min_fudge, max_fudge = 0.5, 10                                     # Determine integration time scale / length\n",
    "    dt = np.min([1/kappa, 1/theta, 1/beta_0, 1/beta_1])*min_fudge\n",
    "    t_max = np.max([1/kappa, 1/theta, 1/beta_0, 1/beta_1])*max_fudge\n",
    "    num_tsteps = int(np.ceil(t_max/dt))\n",
    "\n",
    "    t_array = np.linspace(0, t_max, num_tsteps+1)\n",
    "    t_array = t_array.reshape((1, num_tsteps + 1))\n",
    "    \n",
    "    q = np.zeros((c0.shape[0], num_tsteps + 1), dtype=np.complex64)    # initialize array to store ODE\n",
    "    c0 = c0.reshape((c0.shape[0],1))\n",
    "    c1 = c1.reshape((c1.shape[0],1))\n",
    "    q0 = theta*c0*(np.exp(-beta_0*t_array) - np.exp(-kappa*t_array))/(kappa - beta_0) \n",
    "    q1 = theta*c1*(np.exp(-beta_1*t_array) - np.exp(-kappa*t_array))/(kappa - beta_1)\n",
    "    q = q0 + q1\n",
    "\n",
    "    integrand = q/(1-q)\n",
    "    k=get_k\n",
    "    integral = np.trapz(k*integrand, dx=dt, axis=1)     # integrate ODE solution\n",
    "    gf = np.exp( a*integral)               # get generating function\n",
    "    \n",
    "    gf = gf.reshape(tuple(half))\n",
    "    \n",
    "    P = irfftn(gf, s=mx)                        # Get Pss by inverse fast Fourier transform\n",
    "    P = np.abs(P)/np.sum(np.abs(P))             # Normalize\n",
    "    return P\n",
    "\n",
    "\n",
    "def neglogL_bursty(theta, x, weight,t,tau):\n",
    "    \"\"\"\n",
    "    calculte negative log likelihood for n data points of one gene\n",
    "    theta: length K+5: a_1, ..., a_K, u0, s0, beta, gamma, b\n",
    "    x: n*2 expression of one gene\n",
    "    weight: n*m\n",
    "    t: len m\n",
    "    tau: len K+1\n",
    "    return a scaler\n",
    "    \"\"\"\n",
    "\n",
    "    P=get_P  # P: m*mx[0]*mx[1]\n",
    "    L=P[:,:,x] #n\n",
    "    logL = np.sum(weight * np.log(L))\n",
    "    return -logL"
   ]
  },
  {
   "cell_type": "code",
   "execution_count": 64,
   "metadata": {},
   "outputs": [],
   "source": [
    "from numpy import matlib\n",
    "def gillvec_inh(tau,kvec,beta,tvec,S,bs,nCells):\n",
    "    \"\"\"\n",
    "    tau\n",
    "    bs: mean burst size\n",
    "    \"\"\"\n",
    "    n_species = S.shape[1]\n",
    "\n",
    "    num_t_pts = len(tvec)\n",
    "    X_mesh = np.zeros((nCells,num_t_pts,n_species),dtype=int) #change to float if storing floats!!!!!!! \n",
    "\n",
    "    t = np.zeros(nCells,dtype=float)\n",
    "    tindex = np.zeros(nCells,dtype=int)\n",
    "\n",
    "    X = np.zeros((nCells,n_species),dtype=int)\n",
    "\n",
    "    activecells = np.ones(nCells,dtype=bool)\n",
    "    while any(activecells):\n",
    "        mu = np.zeros(nCells,dtype=int)\n",
    "        n_active_cells = np.sum(activecells)        \n",
    "        (dt,mu_upd) = rxn_calculator_inh(X[activecells,:],t,tau,kvec,beta)\n",
    "\n",
    "        t[activecells] += dt\n",
    "        mu[activecells] = mu_upd\n",
    "\n",
    "        update = np.zeros(nCells,dtype=bool)\n",
    "        update[activecells] = t[activecells] > tvec[tindex[activecells]]\n",
    "        while np.any(update):\n",
    "            X_mesh[update,tindex[update],:] = X[update]\n",
    "            tindex += update\n",
    "            ended_in_update = (tindex==num_t_pts) #less efficient\n",
    "            if np.any(ended_in_update):\n",
    "                activecells[ended_in_update] = False\n",
    "                mu[ended_in_update] = 0\n",
    "                if not np.any(activecells):\n",
    "                    print('end simulation')\n",
    "                    break\n",
    "            update = np.zeros(nCells,dtype=bool)\n",
    "            update[activecells] = t[activecells]>tvec[tindex[activecells]]\n",
    "        \n",
    "        burst = (mu == 1) & activecells\n",
    "        # X[activecells] += S[mu[activecells]-1]\n",
    "\n",
    "        X[burst] += (np.random.geometric(1/(1+bs),size=(burst.sum(),1))-1 )\n",
    "        X[~burst] += S[mu[~burst]-1]\n",
    "        # print(t.mean().round(2),end=' ')\n",
    "    return X_mesh\n",
    "\n",
    "def rxn_calculator_inh(X,t,tau,kvec,beta):\n",
    "    nRxn = len(k)\n",
    "    nCells = X.shape[0]\n",
    "    a,dt = propfun_bursty_inh(X,t,tau,kvec,beta)\n",
    "    a0 = np.sum(a,1)\n",
    "    # dt = np.log(1./np.random.rand(nCells)) / a0\n",
    "    r2ao = a0 * np.random.rand(nCells)\n",
    "    mu = np.sum(matlib.repmat(r2ao,nRxn+1,1).T >= np.cumsum(np.matlib.hstack((np.zeros((nCells,1)),a)),1) ,1)\n",
    "    return (dt,mu)\n",
    " \n",
    "def propfun_bursty_inh(x,t,tau,kvec,beta):\n",
    "    nRxn = len(k)\n",
    "    nCells = x.shape[0]\n",
    "    Lambda = -np.log(np.random.rand(nCells))\n",
    "    a = np.zeros((nCells,nRxn),dtype=float)\n",
    "    dt = np.zeros(nCells)\n",
    "    \n",
    "    N = len(tau)\n",
    "    # print(tau)\n",
    "    for i in range(nCells):\n",
    "        if t[i]>=tau[-1]:\n",
    "            a1 = kvec[-1]\n",
    "            a2 = beta * x[i]\n",
    "            a_ = a1 + a2\n",
    "            dt[i] = Lambda[i]/a_\n",
    "            a[i,0] = a1*dt[i]\n",
    "            a[i,1] = a2*dt[i]\n",
    "        else:\n",
    "            # print(t[i])\n",
    "            L = np.where(tau>t[i])[0][0]\n",
    "            # print(L)\n",
    "            # raise ValueError\n",
    "            tr = t[i]\n",
    "            a1 = 0\n",
    "            a2 = 0\n",
    "            a_ = a1 + a2\n",
    "            while L < N:\n",
    "                # print(L)\n",
    "                a1_ = (tau[L] - tr) * kvec[L-1]\n",
    "                a2_ = (tau[L] - tr) * beta * x[i]\n",
    "                a__ = a1_ + a2_\n",
    "                if a__ + a_ > Lambda[i]:\n",
    "                    dt[i] = tr - t[i] + (tau[L] - tr)*(Lambda[i] - a_)/a__\n",
    "                    a[i,1] = beta * x[i] * dt[i]\n",
    "                    a[i,0] = Lambda[i] - a[i,1]\n",
    "                    break\n",
    "                else:\n",
    "                    tr = tau[L]\n",
    "                    a1 += a1_\n",
    "                    a2 += a2_\n",
    "                    a_ += a__\n",
    "                    L += 1\n",
    "            if L>=N:\n",
    "                a1_ = kvec[-1]\n",
    "                a2_ = beta * x[i]\n",
    "                a__ = a1_ + a2_\n",
    "                dt[i] = tr - t[i] + (Lambda[i] - a_)/a__\n",
    "\n",
    "                a[i,1] = beta * x[i] * dt[i]\n",
    "                a[i,0] = Lambda[i] - a[i,1]\n",
    "    return a,dt\n"
   ]
  },
  {
   "cell_type": "code",
   "execution_count": 65,
   "metadata": {},
   "outputs": [],
   "source": [
    "from math import log, exp"
   ]
  },
  {
   "cell_type": "code",
   "execution_count": 66,
   "metadata": {},
   "outputs": [],
   "source": [
    "def Gillespie_bursty_1D_single(ts, te, x0, kvec, tau, beta, bs, random_seed = None):\n",
    "    \"\"\"\n",
    "    Gillespie algorithm for the system:\n",
    "        null -> x: production rate CIR process\n",
    "        x -> null: degradation rate gamma\n",
    "     \n",
    "    Parameters\n",
    "    ----------\n",
    "    ts : float\n",
    "        Start time \n",
    "    te : float\n",
    "        End time \n",
    "    x0 : float\n",
    "        Initial value\n",
    "    beta: float\n",
    "        Degradation rate \n",
    "    bs : floats\n",
    "        mean burst size\n",
    "    random_seed : int\n",
    "        set numpy.random.seed\n",
    "        \n",
    "    Returns\n",
    "    -------\n",
    "    T : ndarray\n",
    "        Time points  \n",
    "    X : ndarray\n",
    "        The value of x at time points in T\n",
    "\n",
    "    \"\"\"\n",
    "    # np.random.seed is global\n",
    "    if isinstance(random_seed, int):\n",
    "        np.random.seed(random_seed)\n",
    "\n",
    "    #np.random.seed()    \n",
    "    t=ts\n",
    "    x=x0 #system state\n",
    "    T=[]\n",
    "    X=[]\n",
    "\n",
    "    while t<te:\n",
    "        T.append(t)\n",
    "        X.append(x)\n",
    "        \n",
    "        rv=np.random.uniform(0,1,2) \n",
    "        \n",
    "        # calculate propensity functions\n",
    "        state = np.where(np.array(tau)<=t)[0][-1]\n",
    "        k = kvec[state]\n",
    "        a_cumsum=np.array([k, beta*x+k])\n",
    "        tau=-log(rv[0])/a_cumsum[-1]\n",
    "            \n",
    "        t=t+tau \n",
    "        \n",
    "        a_normalized=a_cumsum/a_cumsum[-1]\n",
    "        if rv[1]<= a_normalized[0]:\n",
    "            idx=0\n",
    "            x=x+np.random.geometric(1/bs)\n",
    "        else:\n",
    "            idx=1\n",
    "            x=x-1\n",
    "\n",
    "    T.append(t)\n",
    "    X.append(x)\n",
    "\n",
    "    return np.array(T), np.array(X)\n"
   ]
  },
  {
   "cell_type": "code",
   "execution_count": 67,
   "metadata": {},
   "outputs": [],
   "source": [
    "def Gillespie_bursty_2D(ts, te, x0, kvec, tau, beta, gamma, bs, random_seed = None):\n",
    "    \"\"\"\n",
    "    Gillespie algorithm for the system:\n",
    "        null -> X1: production rate\n",
    "        X1 -> X2 : beta\n",
    "        X2 -> null: degradation rate gamma\n",
    "     \n",
    "    Parameters\n",
    "    ----------\n",
    "    ts : float\n",
    "        Start time \n",
    "    te : float\n",
    "        End time \n",
    "    x0 : 1D array\n",
    "        Initial value\n",
    "    beta : float\n",
    "        Splicing rate\n",
    "    gamma: float\n",
    "        Degradation rate \n",
    "    bs : floats\n",
    "        mean burst size\n",
    "    random_seed : int\n",
    "        set numpy.random.seed\n",
    "        \n",
    "    Returns\n",
    "    -------\n",
    "    T : ndarray\n",
    "        Time points  \n",
    "    X : ndarray\n",
    "        The value of x at time points in T\n",
    "\n",
    "    \"\"\"\n",
    "    # np.random.seed is global\n",
    "    if isinstance(random_seed, int):\n",
    "        np.random.seed(random_seed)\n",
    "\n",
    "    #np.random.seed()    \n",
    "    t=ts\n",
    "    x=x0 #system state\n",
    "    T=[]\n",
    "    X=[]\n",
    "\n",
    "    while t<te:\n",
    "        T.append(t)\n",
    "        X.append(x)\n",
    "        \n",
    "        rv=np.random.uniform(0,1,2) \n",
    "        \n",
    "        # calculate propensity functions\n",
    "        state = np.where(np.array(tau)<=t)[0][-1]\n",
    "        k = kvec[state]\n",
    "        a_cumsum=np.array([k, beta*x[0]+k, gamma*x[1]+beta*x[0]+k])\n",
    "        tau=-log(rv[0])/a_cumsum[-1]\n",
    "            \n",
    "        t=t+tau \n",
    "        \n",
    "        a_normalized=a_cumsum/a_cumsum[-1]\n",
    "        if rv[1]<= a_normalized[0]:\n",
    "            x[0]=x[0]+np.random.geometric(1/bs)\n",
    "        elif rv[1]<= a_normalized[1]:\n",
    "            x=x+[0,-1,1]\n",
    "        else:\n",
    "            x=x+[0,0,-1]\n",
    "\n",
    "    T.append(t)\n",
    "    X.append(x)\n",
    "\n",
    "    return np.array(T), np.array(X)"
   ]
  },
  {
   "cell_type": "code",
   "execution_count": 68,
   "metadata": {},
   "outputs": [],
   "source": [
    "def Gillespie_bursty_1D(ncell, tvec, x0, kvec, tau, beta, bs, random_seed = None):\n",
    "    m = len(tvec)\n",
    "    X = np.zeros((ncell,m))\n",
    "    for i in range(ncell):\n",
    "        T, x = Gillespie_bursty_1D_single(tvec[0], tvec[-1], x0, kvec, tau, beta, bs, random_seed)\n",
    "        k=0\n",
    "        for j in range(m):\n",
    "            while T[k]<=tvec[j]:\n",
    "                k=k+1\n",
    "            X[i,j]=x[k-1]\n",
    "    return X"
   ]
  },
  {
   "cell_type": "markdown",
   "metadata": {
    "id": "eJPiBpDv6w4Q"
   },
   "source": [
    "# Test"
   ]
  },
  {
   "cell_type": "markdown",
   "metadata": {},
   "source": [
    "## Gillespie"
   ]
  },
  {
   "cell_type": "code",
   "execution_count": 135,
   "metadata": {},
   "outputs": [
    {
     "name": "stdout",
     "output_type": "stream",
     "text": [
      "end simulation\n",
      "CPU times: user 44.5 s, sys: 796 ms, total: 45.3 s\n",
      "Wall time: 44.4 s\n"
     ]
    }
   ],
   "source": [
    "k = [10,10]\n",
    "bs = 1\n",
    "T=10\n",
    "\n",
    "beta = 1\n",
    "S = np.asarray([[100],[-1]],dtype=int)\n",
    "\n",
    "# kvec = np.asarray([0.1,5,3])\n",
    "# tau = np.asarray([0,4,6])\n",
    "kvec = np.asarray(k)\n",
    "tau = np.asarray([0,0.5])\n",
    "t = np.linspace(0,T,100)\n",
    "\n",
    "nCells = 10000\n",
    "\n",
    "%time X = gillvec_inh(tau,kvec,beta,t,S,bs,nCells)"
   ]
  },
  {
   "cell_type": "code",
   "execution_count": 136,
   "metadata": {},
   "outputs": [
    {
     "data": {
      "image/png": "[encoded data removed]",
      "text/plain": [
       "<Figure size 432x288 with 1 Axes>"
      ]
     },
     "metadata": {
      "needs_background": "light"
     },
     "output_type": "display_data"
    }
   ],
   "source": [
    "mx = X.max()\n",
    "bins = np.arange(mx)-0.5\n",
    "_=plt.hist(X[:,-1,:],bins=bins,density=True,facecolor='lightgray')\n",
    "x = np.arange(mx)\n",
    "y = scipy.stats.poisson.pmf(x,k[-1]/beta);\n",
    "plt.plot(x,y,'r.-',label='SS');"
   ]
  },
  {
   "cell_type": "code",
   "execution_count": 139,
   "metadata": {},
   "outputs": [
    {
     "name": "stdout",
     "output_type": "stream",
     "text": [
      "CPU times: user 2min 20s, sys: 1.6 s, total: 2min 21s\n",
      "Wall time: 2min 20s\n"
     ]
    }
   ],
   "source": [
    "%time X_ = Gillespie_bursty_1D(ncell=10000, tvec=t, x0=0, kvec=k, tau=[0,0.5,1], beta=beta, bs=1, random_seed = None)"
   ]
  },
  {
   "cell_type": "code",
   "execution_count": 140,
   "metadata": {},
   "outputs": [
    {
     "data": {
      "image/png": "[encoded data removed]",
      "text/plain": [
       "<Figure size 432x288 with 1 Axes>"
      ]
     },
     "metadata": {
      "needs_background": "light"
     },
     "output_type": "display_data"
    }
   ],
   "source": [
    "mx = X_.max()\n",
    "bins = np.arange(mx)-0.5\n",
    "plt.hist(X_[:,-1],bins=bins,density=True,facecolor='lightgray');\n",
    "x = np.arange(mx)\n",
    "y = scipy.stats.poisson.pmf(x,k[-1]/beta);\n",
    "plt.plot(x,y,'b.-',label='poi');"
   ]
  },
  {
   "cell_type": "code",
   "execution_count": 77,
   "metadata": {},
   "outputs": [
    {
     "data": {
      "image/png": "[encoded data removed]",
      "text/plain": [
       "<Figure size 432x288 with 1 Axes>"
      ]
     },
     "metadata": {
      "needs_background": "light"
     },
     "output_type": "display_data"
    }
   ],
   "source": [
    "plt.plot(t,X[10],'.');"
   ]
  },
  {
   "cell_type": "code",
   "execution_count": null,
   "metadata": {},
   "outputs": [],
   "source": []
  }
 ],
 "metadata": {
  "colab": {
   "authorship_tag": "ABX9TyM2DzHytAVeJiSTwNahdPoc",
   "include_colab_link": true,
   "name": "Poisson regression.ipynb",
   "provenance": []
  },
  "kernelspec": {
   "display_name": "Python [conda env:main]",
   "language": "python",
   "name": "conda-env-main-py"
  },
  "language_info": {
   "codemirror_mode": {
    "name": "ipython",
    "version": 3
   },
   "file_extension": ".py",
   "mimetype": "text/x-python",
   "name": "python",
   "nbconvert_exporter": "python",
   "pygments_lexer": "ipython3",
   "version": "3.9.12"
  }
 },
 "nbformat": 4,
 "nbformat_minor": 1
}
