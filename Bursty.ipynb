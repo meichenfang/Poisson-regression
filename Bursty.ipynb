{
  "cells": [
    {
      "cell_type": "markdown",
      "metadata": {
        "id": "view-in-github",
        "colab_type": "text"
      },
      "source": [
        "<a href=\"https://colab.research.google.com/github/meichenfang/Poisson-regression/blob/main/Bursty.ipynb\" target=\"_parent\"><img src=\"https://colab.research.google.com/assets/colab-badge.svg\" alt=\"Open In Colab\"/></a>"
      ]
    },
    {
      "cell_type": "markdown",
      "metadata": {
        "id": "1100hO-K5kO2"
      },
      "source": [
        "# Introduction\n",
        "\n",
        "**Denote the gene expression matrix by $X_{ij}$ where j is gene index and i is cell index. In summary, we assume a specific model of transcription and want to solve**\n",
        "\n",
        "\\begin{align}\n",
        "    & \\text{argmax}_{\\theta_j} \\sum_{j} \\sum_i \\ln P(\\mathcal{X}_{ij},t_i; \\theta_j,\\tau).\n",
        "\\end{align}\n",
        "\n",
        "We assume t follows a uniform distribution on [0,1]. We use alternative minimization/EM-like algorithm to find optimal θ."
      ]
    },
    {
      "cell_type": "code",
      "execution_count": 14,
      "metadata": {
        "id": "9CQ902cj9MAx"
      },
      "outputs": [],
      "source": [
        "# -*- coding: utf-8 -*-\n",
        "\n",
        "# Scientific computing imports\n",
        "import numpy as np\n",
        "from numpy.fft import irfftn\n",
        "from numpy.random import choice\n",
        "from scipy.stats import poisson, nbinom\n",
        "import scipy\n",
        "import matplotlib.pyplot as plt\n",
        "import time"
      ]
    },
    {
      "cell_type": "markdown",
      "source": [
        "## Two Dim P"
      ],
      "metadata": {
        "id": "-_fYTIoTXY5t"
      }
    },
    {
      "cell_type": "code",
      "execution_count": 178,
      "metadata": {
        "id": "zYOHgPKme_9M"
      },
      "outputs": [],
      "source": [
        "# -*- coding: utf-8 -*-\n",
        "\n",
        "# Scientific computing imports\n",
        "import numpy as np\n",
        "from numpy.fft import irfftn\n",
        "from numpy.random import choice\n",
        "from scipy.stats import poisson, nbinom\n",
        "import matplotlib.pyplot as plt\n",
        "\n",
        "def get_P(theta, t, tau, mx):\n",
        "    # theta = a_1,..., b, u0, s0, beta, gamma\n",
        "    #\n",
        "    # outline:\n",
        "    #   get u and flatten it => u \n",
        "    #   use cumtrapz to integrate phi which has shape (len(t), mx[0]*(mx[1]//2+1) )\n",
        "    #   generating function gf=np.exp(phi)\n",
        "    #   use irfftn(gf) to get P which has shape(len(t), mx[0], mx[1])\n",
        "\n",
        "    K = len(tau)-1\n",
        "    if len(theta)!=2*K+4:\n",
        "      raise ValueError(\"check theta\")\n",
        "    kvec = theta[0:K]\n",
        "    bvec = theta[K:-4]\n",
        "    u0,s0,beta,gamma = theta[-4:]\n",
        "    \n",
        "    # Get generating function argument u\n",
        "    us = []\n",
        "    half = mx[:]\n",
        "    half[-1] = mx[-1]//2 + 1\n",
        "    for i in range(len(mx)):\n",
        "        l = np.arange(half[i])\n",
        "        u_ = np.exp(-2j*np.pi*l/mx[i])-1\n",
        "        us.append(u_)\n",
        "    u = np.meshgrid(*[u_ for u_ in us], indexing='ij')\n",
        "    for i in range(len(mx)):\n",
        "        u[i] = u[i].flatten()\n",
        "    \n",
        "    # Get generating function\n",
        "    # M(u)=1/(1 - bu)\n",
        "    # phi = int_0^t k*bU/(1-bU) + phi_0\n",
        "    # q = bU \n",
        "    \n",
        "    def get_b(t,tau,bvec):\n",
        "        return np.ones_like(t)*bvec[0]\n",
        "    \n",
        "    def get_k(t,tau,kvec):\n",
        "        return np.ones_like(t)*kvec[0]\n",
        "    \n",
        "    c0 = (u[0]) - (beta/(beta - gamma))*(u[1])       #  coef of e^{-beta s}\n",
        "    c1 = (beta/(beta - gamma))*(u[1])   # coef of e^{-gamma s}\n",
        "    c0 = c0.reshape((1,-1))\n",
        "    c1 = c1.reshape((1,-1))\n",
        "\n",
        "    t_array = np.reshape(t,(-1,1))\n",
        "    k_array = np.reshape(get_k(t,tau,kvec),(-1,1))\n",
        "    b_array = np.reshape(get_b(t,tau,bvec),(-1,1))\n",
        "    \n",
        "    phi = np.zeros((len(t),len(u[0])), dtype=np.complex64)    # initialize array to store ODE  \n",
        "    U0 = c0*np.exp(-beta*t_array) \n",
        "    U1 = b_array*c1*np.exp(-gamma*t_array) \n",
        "    U = U0 + U1               \n",
        "    q = b_array*U\n",
        "    integrand = k_array*q/(1-q)\n",
        "    integral = scipy.integrate.cumtrapz(y=integrand, x=t_array, axis=0)     # integrate ODE solution                    \n",
        "    phi[1:,:] = integral\n",
        "    gf = np.exp(phi)               # get generating function\n",
        "    gf = gf.reshape((len(tvec),half[0],half[1])) # len(tvec)*mx[0]*mx[1]\n",
        "      \n",
        "    P = irfftn(gf, s=mx)\n",
        "    return P\n",
        "\n",
        "\n",
        "def neglogL_bursty(theta, x, weight,t,tau):\n",
        "    \"\"\"\n",
        "    calculte negative log likelihood for n data points of one gene\n",
        "    theta: length K+5: a_1, ..., a_K, u0, s0, beta, gamma, b\n",
        "    x: n*2 expression of one gene\n",
        "    weight: n*m\n",
        "    t: len m\n",
        "    tau: len K+1\n",
        "    return a scaler\n",
        "    \"\"\"\n",
        "\n",
        "    P=get_P  # P: m*mx[0]*mx[1]\n",
        "    L=P[:,:,x] #n\n",
        "    logL = np.sum(weight * np.log(L))\n",
        "    return -logL"
      ]
    },
    {
      "cell_type": "markdown",
      "metadata": {
        "id": "qq8x7pWYSXh_"
      },
      "source": [
        "## Inhomogeneous burst size"
      ]
    },
    {
      "cell_type": "code",
      "execution_count": 138,
      "metadata": {
        "id": "uWDVDkGSSXiA"
      },
      "outputs": [],
      "source": [
        "def gillvec_burst_inhom(k,tvec,tau,bvec,S,nCells,propfun,burstfun):\n",
        "    n_species = S.shape[1]\n",
        "\n",
        "    num_t_pts = len(tvec)\n",
        "    X_mesh = np.zeros((nCells,num_t_pts,n_species),dtype=int) #change to float if storing floats!!!!!!! \n",
        "\n",
        "    t = np.zeros(nCells,dtype=float)\n",
        "    tindex = np.zeros(nCells,dtype=int)\n",
        "\n",
        "    #initialize state: integer unspliced, integer spliced \n",
        "    X = np.zeros((nCells,n_species),dtype=int)\n",
        "\n",
        "    #initialize list of cells that are being simulated\n",
        "    activecells = np.ones(nCells,dtype=bool)\n",
        "    while any(activecells):\n",
        "        mu = np.zeros(nCells,dtype=int)\n",
        "        n_active_cells = np.sum(activecells)        \n",
        "        (dt,mu_upd) = rxn_calculator(X[activecells,:],k,propfun)\n",
        "\n",
        "        t[activecells] += dt\n",
        "        mu[activecells] = mu_upd\n",
        "\n",
        "        update = np.zeros(nCells,dtype=bool)\n",
        "        update[activecells] = t[activecells] > tvec[tindex[activecells]]\n",
        "        while np.any(update):\n",
        "            X_mesh[update,tindex[update],:] = X[update]\n",
        "            tindex += update\n",
        "            ended_in_update = (tindex==num_t_pts) #less efficient\n",
        "            if np.any(ended_in_update):\n",
        "                activecells[ended_in_update] = False\n",
        "                mu[ended_in_update] = 0\n",
        "                if not np.any(activecells):\n",
        "                    print('end simulation')\n",
        "                    break\n",
        "            update = np.zeros(nCells,dtype=bool)\n",
        "            update[activecells] = t[activecells]>tvec[tindex[activecells]]\n",
        "        \n",
        "        burst = (mu == 1) & activecells\n",
        "        bs = burstfun(tau,bvec,t[burst])\n",
        "        # print(bs.shape)\n",
        "        bsrand = (np.random.geometric(1/(1+bs))-1 )\n",
        "        # print(bsrand.shape)\n",
        "        X[burst] += bsrand[:,None]\n",
        "        X[~burst] += S[mu[~burst]-1]\n",
        "    return X_mesh\n",
        "\n",
        "def rxn_calculator(X,k,propfun):\n",
        "    nRxn = len(k)\n",
        "    nCells = X.shape[0]\n",
        "\n",
        "    a = np.zeros((nCells,nRxn),dtype=float)\n",
        " ################################\n",
        "    a = propfun(a, k, X)\n",
        "#################################\n",
        "    a0 = np.sum(a,1)\n",
        "    dt = np.log(1./np.random.rand(nCells)) / a0\n",
        "    r2ao = a0 * np.random.rand(nCells)\n",
        "    mu = np.sum(np.matlib.repmat(r2ao,nRxn+1,1).T >= np.cumsum(np.matlib.hstack((np.zeros((nCells,1)),a)),1) ,1)\n",
        "    return (dt,mu)\n",
        "\n",
        "def propfun_bursty(a,k,x):\n",
        "    k1,b,g = k\n",
        "    x = x.T\n",
        "    a = a.T\n",
        "    #######\n",
        "    #fill in this part\n",
        "    a[0] = k1\n",
        "    a[1] = b * x[0]\n",
        "    a[2] = b * x[1]\n",
        "    #######\n",
        "    a = a.T\n",
        "    return a\n"
      ]
    },
    {
      "cell_type": "code",
      "execution_count": 139,
      "metadata": {
        "id": "Ae5FKdalSXiB"
      },
      "outputs": [],
      "source": [
        "def piecewise_constant(tau,kvec,t):\n",
        "    # print(type(t))\n",
        "    # print(t.shape)\n",
        "    if (isinstance(t,np.ndarray)):\n",
        "        k = np.zeros(t.shape)\n",
        "        for i in range(len(t)):\n",
        "            lowlim = np.where(tau<=t[i])[0][-1]\n",
        "            k[i] = kvec[lowlim]\n",
        "        # print(k)//\n",
        "    elif (isinstance(t,float) or isinstance(t,complex)):\n",
        "        lowlim = np.where(tau<=t)[0][-1]\n",
        "        k = kvec[lowlim]\n",
        "    else:\n",
        "        print(type(t))\n",
        "        raise ValueError\n",
        "    return k"
      ]
    },
    {
      "cell_type": "code",
      "source": [
        "def eval_model_inh_burst_rk(tau,ki,beta,bvec,burstfun,tvec,T,limits):\n",
        "    mx = limits//2 + 1\n",
        "    l = np.arange(mx)\n",
        "    u = np.exp(-2j*np.pi*l/limits)-1\n",
        "    y0 = np.zeros(u.shape,dtype=np.complex128)\n",
        "    fun = lambda t,y: ki*(1/(1-burstfun(tau,bvec,T-t)*u*np.exp(-beta*t)) - 1)\n",
        "    # res = scipy.integrate.solve_ivp(fun,[0,T],y0,t_eval=tvec,method='RK45')\n",
        "    res = scipy.integrate.solve_ivp(fun,[0,T],y0,t_eval=tvec,method='RK45',rtol=1e-16,atol=1e-200)\n",
        "    gf = res.y.T\n",
        "\n",
        "    integral = np.exp(gf)\n",
        "    Pss = irfftn(integral,s=[limits,])\n",
        "    return Pss.squeeze()\n"
      ],
      "metadata": {
        "id": "5SpKjOjVwU67"
      },
      "execution_count": 226,
      "outputs": []
    },
    {
      "cell_type": "code",
      "source": [
        "def eval_model_inh_burst_cheap(tau,ki,beta,bvec,burstfun,tvec,T,limits):\n",
        "    mx = limits//2 + 1\n",
        "    l = np.arange(mx)\n",
        "    u = np.exp(-2j*np.pi*l/limits)-1\n",
        "    \n",
        "    integrand = (1/(1-burstfun(tau,bvec,T-tvec)[:,None]*u[None,:]*np.exp(-beta*tvec[:,None])) - 1) \n",
        "    integral = np.exp(ki*scipy.integrate.cumtrapz(integrand,x=tvec,axis=0,initial=0))\n",
        "\n",
        "    Pss = irfftn(integral, s=[limits,]) \n",
        "    return Pss.squeeze()"
      ],
      "metadata": {
        "id": "feMbf0QPzHlK"
      },
      "execution_count": 265,
      "outputs": []
    },
    {
      "cell_type": "code",
      "execution_count": 258,
      "metadata": {
        "id": "iXSZ0vRxSXiC"
      },
      "outputs": [],
      "source": [
        "S = np.asarray([[10,0],[-1,1],[0,-1]],dtype=int)\n",
        "k = [200.0,200.0,100.0]\n",
        "\n",
        "nCells = 10000\n",
        "T=1\n",
        "\n",
        "tvec = np.linspace(0,T,101)\n",
        "propfun = propfun_bursty\n",
        "\n",
        "bvec = np.asarray([10,10]).astype(float)\n",
        "tau = np.asarray([0,0.5]).astype(float)\n",
        "\n",
        "burstfun = piecewise_constant"
      ]
    },
    {
      "cell_type": "code",
      "execution_count": 259,
      "metadata": {
        "id": "ZFvk03GjSXiC",
        "outputId": "31995191-6dcc-4ced-a1d3-9cfdc54b446e",
        "colab": {
          "base_uri": "https://localhost:8080/"
        }
      },
      "outputs": [
        {
          "output_type": "stream",
          "name": "stdout",
          "text": [
            "end simulation\n"
          ]
        }
      ],
      "source": [
        "X = gillvec_burst_inhom(k,tvec,tau,bvec,S,nCells,propfun,burstfun)"
      ]
    },
    {
      "cell_type": "code",
      "source": [
        "mx = X.max()+10\n",
        "theta = [k[0],k[0],bvec[0],bvec[0],0,0,k[1],k[2]]\n",
        "Tau = [0,0.5,1]\n",
        "t1 = time.time()\n",
        "pmf = get_P(theta, tvec, Tau, [mx,mx])\n",
        "t2 = time.time()\n",
        "print(t2-t1)"
      ],
      "metadata": {
        "id": "TFnVnvg_dosJ",
        "outputId": "20b80894-4c7f-4889-bc96-f1e5310095d0",
        "colab": {
          "base_uri": "https://localhost:8080/"
        }
      },
      "execution_count": 272,
      "outputs": [
        {
          "output_type": "stream",
          "name": "stdout",
          "text": [
            "0.5477814674377441\n"
          ]
        }
      ]
    },
    {
      "cell_type": "code",
      "source": [
        "t1 = time.time()\n",
        "pmf1 = eval_model_inh_burst_rk(tau,k[0],k[1],bvec,burstfun,tvec,T,mx)\n",
        "t2 = time.time()\n",
        "print(t2-t1)\n",
        "#tau,ki,beta,bvec,burstfun,tvec,T,limits"
      ],
      "metadata": {
        "id": "4n77kLaBwRVE",
        "outputId": "075f7106-3671-4853-ee8a-c6a6cc24e693",
        "colab": {
          "base_uri": "https://localhost:8080/"
        }
      },
      "execution_count": 273,
      "outputs": [
        {
          "output_type": "stream",
          "name": "stdout",
          "text": [
            "0.1944262981414795\n"
          ]
        },
        {
          "output_type": "stream",
          "name": "stderr",
          "text": [
            "/usr/local/lib/python3.7/dist-packages/scipy/integrate/_ivp/common.py:47: UserWarning: `rtol` is too low, setting to 2.220446049250313e-14\n",
            "  warn(\"`rtol` is too low, setting to {}\".format(100 * EPS))\n"
          ]
        }
      ]
    },
    {
      "cell_type": "code",
      "source": [
        "t1 = time.time()\n",
        "pmf2 = eval_model_inh_burst_cheap(tau,k[0],k[1],bvec,burstfun,tvec,T,mx)\n",
        "t2 = time.time()\n",
        "print(t2-t1)"
      ],
      "metadata": {
        "id": "xnZC_hIvzNRf",
        "outputId": "8b2ed0c4-6ae2-415d-88a9-fe6f0c1b27c0",
        "colab": {
          "base_uri": "https://localhost:8080/"
        }
      },
      "execution_count": 274,
      "outputs": [
        {
          "output_type": "stream",
          "name": "stdout",
          "text": [
            "0.005644321441650391\n"
          ]
        }
      ]
    },
    {
      "cell_type": "code",
      "source": [
        "j=50\n",
        "\n",
        "bins = np.arange(mx)-0.5\n",
        "_=plt.hist(X[:,j,0],bins=bins,density=True,facecolor='lightgray')\n",
        "\n",
        "x = np.arange(mx)\n",
        "y = pmf[j].sum(axis=1)\n",
        "plt.plot(x,y,'g.-',label='extracted pmf')\n",
        "\n",
        "y = pmf1[j]\n",
        "plt.plot(x,y,'r.-',label='ivp pmf')\n",
        "\n",
        "y = pmf2[j]\n",
        "plt.plot(x,y,'b.-',label='cheap pmf')\n",
        "\n",
        "plt.legend()\n",
        "plt.xlim([-1,100]);"
      ],
      "metadata": {
        "id": "K1J2YU39XpcW",
        "outputId": "5ad5e0e2-5628-4943-a036-272de69678b9",
        "colab": {
          "base_uri": "https://localhost:8080/",
          "height": 265
        }
      },
      "execution_count": 275,
      "outputs": [
        {
          "output_type": "display_data",
          "data": {
            "text/plain": [
              "<Figure size 432x288 with 1 Axes>"
            ],
            "image/png": "[encoded data removed]"
          },
          "metadata": {
            "image/png": {
              "width": 388,
              "height": 248
            },
            "needs_background": "light"
          }
        }
      ]
    },
    {
      "cell_type": "code",
      "source": [
        "j=5\n",
        "\n",
        "bins = np.arange(mx)-0.5\n",
        "_=plt.hist(X[:,j,1],bins=bins,density=True,facecolor='lightgray')\n",
        "\n",
        "x = np.arange(mx)\n",
        "y = pmf[j].sum(axis=0)\n",
        "plt.plot(x,y,'r.-',label='extracted pmf')\n",
        "\n",
        "plt.legend()\n",
        "plt.xlim([-1,100]);"
      ],
      "metadata": {
        "id": "x1WP77dlvh4Y",
        "outputId": "aa22918d-fded-466f-f828-27e5d6657fa4",
        "colab": {
          "base_uri": "https://localhost:8080/",
          "height": 265
        }
      },
      "execution_count": 279,
      "outputs": [
        {
          "output_type": "display_data",
          "data": {
            "text/plain": [
              "<Figure size 432x288 with 1 Axes>"
            ],
            "image/png": "[encoded data removed]"
          },
          "metadata": {
            "image/png": {
              "width": 394,
              "height": 248
            },
            "needs_background": "light"
          }
        }
      ]
    },
    {
      "cell_type": "markdown",
      "metadata": {
        "id": "dG0dU-HhW7Gq"
      },
      "source": [
        "## Inhomogeneous frequency bursty"
      ]
    },
    {
      "cell_type": "code",
      "execution_count": null,
      "metadata": {
        "id": "DykkxaxWSXiF"
      },
      "outputs": [],
      "source": [
        "from numpy import matlib\n",
        "def gillvec_inh(tau,kvec,beta,tvec,S,bs,nCells):\n",
        "    n_species = S.shape[1]\n",
        "\n",
        "    num_t_pts = len(tvec)\n",
        "    X_mesh = np.zeros((nCells,num_t_pts,n_species),dtype=int) #change to float if storing floats!!!!!!! \n",
        "\n",
        "    t = np.zeros(nCells,dtype=float)\n",
        "    tindex = np.zeros(nCells,dtype=int)\n",
        "\n",
        "    X = np.zeros((nCells,n_species),dtype=int)\n",
        "\n",
        "    activecells = np.ones(nCells,dtype=bool)\n",
        "    while any(activecells):\n",
        "        mu = np.zeros(nCells,dtype=int)\n",
        "        n_active_cells = np.sum(activecells)        \n",
        "        (dt,mu_upd) = rxn_calculator_inh(X[activecells,:],t,tau,kvec,beta)\n",
        "\n",
        "        t[activecells] += dt\n",
        "        mu[activecells] = mu_upd\n",
        "\n",
        "        update = np.zeros(nCells,dtype=bool)\n",
        "        update[activecells] = t[activecells] > tvec[tindex[activecells]]\n",
        "        while np.any(update):\n",
        "            X_mesh[update,tindex[update],:] = X[update]\n",
        "            tindex += update\n",
        "            ended_in_update = (tindex==num_t_pts) #less efficient\n",
        "            if np.any(ended_in_update):\n",
        "                activecells[ended_in_update] = False\n",
        "                mu[ended_in_update] = 0\n",
        "                if not np.any(activecells):\n",
        "                    print('end simulation')\n",
        "                    break\n",
        "            update = np.zeros(nCells,dtype=bool)\n",
        "            update[activecells] = t[activecells]>tvec[tindex[activecells]]\n",
        "        \n",
        "        burst = (mu == 1) & activecells\n",
        "        # X[activecells] += S[mu[activecells]-1]\n",
        "\n",
        "        X[burst] += (np.random.geometric(1/(1+bs),size=(burst.sum(),1))-1 )\n",
        "        X[~burst] += S[mu[~burst]-1]\n",
        "        # print(t.mean().round(2),end=' ')\n",
        "    return X_mesh\n",
        "\n",
        "def rxn_calculator_inh(X,t,tau,kvec,beta):\n",
        "    nRxn = len(k)\n",
        "    nCells = X.shape[0]\n",
        "    a,dt = propfun_bursty_inh(X,t,tau,kvec,beta)\n",
        "    a0 = np.sum(a,1)\n",
        "    # dt = np.log(1./np.random.rand(nCells)) / a0\n",
        "    r2ao = a0 * np.random.rand(nCells)\n",
        "    mu = np.sum(matlib.repmat(r2ao,nRxn+1,1).T >= np.cumsum(np.matlib.hstack((np.zeros((nCells,1)),a)),1) ,1)\n",
        "    return (dt,mu)\n",
        " \n",
        "def propfun_bursty_inh(x,t,tau,kvec,beta):\n",
        "    nRxn = len(k)\n",
        "    nCells = x.shape[0]\n",
        "    Lambda = -np.log(np.random.rand(nCells))\n",
        "    a = np.zeros((nCells,nRxn),dtype=float)\n",
        "    dt = np.zeros(nCells)\n",
        "    \n",
        "    N = len(tau)\n",
        "    # print(tau)\n",
        "    for i in range(nCells):\n",
        "        if t[i]>=tau[-1]:\n",
        "            a1 = kvec[-1]\n",
        "            a2 = beta * x[i]\n",
        "            a_ = a1 + a2\n",
        "            dt[i] = Lambda[i]/a_\n",
        "            a[i,0] = a1*dt[i]\n",
        "            a[i,1] = a2*dt[i]\n",
        "        else:\n",
        "            # print(t[i])\n",
        "            L = np.where(tau>t[i])[0][0]\n",
        "            # print(L)\n",
        "            # raise ValueError\n",
        "            tr = t[i]\n",
        "            a1 = 0\n",
        "            a2 = 0\n",
        "            a_ = a1 + a2\n",
        "            while L < N:\n",
        "                # print(L)\n",
        "                a1_ = (tau[L] - tr) * kvec[L-1]\n",
        "                a2_ = (tau[L] - tr) * beta * x[i]\n",
        "                a__ = a1_ + a2_\n",
        "                if a__ + a_ > Lambda[i]:\n",
        "                    dt[i] = tr - t[i] + (tau[L] - tr)*(Lambda[i] - a_)/a__\n",
        "                    a[i,1] = beta * x[i] * dt[i]\n",
        "                    a[i,0] = Lambda[i] - a[i,1]\n",
        "                    break\n",
        "                else:\n",
        "                    tr = tau[L]\n",
        "                    a1 += a1_\n",
        "                    a2 += a2_\n",
        "                    a_ += a__\n",
        "                    L += 1\n",
        "            if L>=N:\n",
        "                a1_ = kvec[-1]\n",
        "                a2_ = beta * x[i]\n",
        "                a__ = a1_ + a2_\n",
        "                dt[i] = tr - t[i] + (Lambda[i] - a_)/a__\n",
        "\n",
        "                a[i,1] = beta * x[i] * dt[i]\n",
        "                a[i,0] = Lambda[i] - a[i,1]\n",
        "    return a,dt\n"
      ]
    },
    {
      "cell_type": "markdown",
      "source": [
        "## Gillespie"
      ],
      "metadata": {
        "id": "Gaqc0OPfuPF-"
      }
    },
    {
      "cell_type": "code",
      "execution_count": null,
      "metadata": {
        "id": "C8p0uWlHSXiG"
      },
      "outputs": [],
      "source": [
        "from math import log, exp"
      ]
    },
    {
      "cell_type": "code",
      "execution_count": null,
      "metadata": {
        "id": "MQEMD-2nSXiH"
      },
      "outputs": [],
      "source": [
        "def Gillespie_bursty_1D_single(ts, te, x0, kvec, tau, beta, bs, random_seed = None):\n",
        "    \"\"\"\n",
        "    Gillespie algorithm for the system:\n",
        "        null -> x: production rate CIR process\n",
        "        x -> null: degradation rate gamma\n",
        "     \n",
        "    Parameters\n",
        "    ----------\n",
        "    ts : float\n",
        "        Start time \n",
        "    te : float\n",
        "        End time \n",
        "    x0 : float\n",
        "        Initial value\n",
        "    beta: float\n",
        "        Degradation rate \n",
        "    bs : floats\n",
        "        mean burst size\n",
        "    random_seed : int\n",
        "        set numpy.random.seed\n",
        "        \n",
        "    Returns\n",
        "    -------\n",
        "    T : ndarray\n",
        "        Time points  \n",
        "    X : ndarray\n",
        "        The value of x at time points in T\n",
        "\n",
        "    \"\"\"\n",
        "    # np.random.seed is global\n",
        "    if isinstance(random_seed, int):\n",
        "        np.random.seed(random_seed)\n",
        "\n",
        "    #np.random.seed()    \n",
        "    t=ts\n",
        "    x=x0 #system state\n",
        "    T=[]\n",
        "    X=[]\n",
        "\n",
        "    while t<te:\n",
        "        T.append(t)\n",
        "        X.append(x)\n",
        "        \n",
        "        rv=np.random.uniform(0,1,2) \n",
        "        \n",
        "        # calculate propensity functions\n",
        "        state = np.where(np.array(tau)<=t)[0][-1]\n",
        "        k = kvec[state]\n",
        "        a_cumsum=np.array([k, beta*x+k])\n",
        "        tau=-log(rv[0])/a_cumsum[-1]\n",
        "            \n",
        "        t=t+tau \n",
        "        \n",
        "        a_normalized=a_cumsum/a_cumsum[-1]\n",
        "        if rv[1]<= a_normalized[0]:\n",
        "            idx=0\n",
        "            x=x+np.random.geometric(1/(bs+1))-1\n",
        "        else:\n",
        "            idx=1\n",
        "            x=x-1\n",
        "\n",
        "    T.append(t)\n",
        "    X.append(x)\n",
        "\n",
        "    return np.array(T), np.array(X)\n"
      ]
    },
    {
      "cell_type": "code",
      "execution_count": null,
      "metadata": {
        "id": "01v9YXDBSXiH"
      },
      "outputs": [],
      "source": [
        "def Gillespie_bursty_2D(ts, te, x0, kvec, tau, beta, gamma, bs, random_seed = None):\n",
        "    \"\"\"\n",
        "    Gillespie algorithm for the system:\n",
        "        null -> X1: production rate\n",
        "        X1 -> X2 : beta\n",
        "        X2 -> null: degradation rate gamma\n",
        "     \n",
        "    Parameters\n",
        "    ----------\n",
        "    ts : float\n",
        "        Start time \n",
        "    te : float\n",
        "        End time \n",
        "    x0 : 1D array\n",
        "        Initial value\n",
        "    beta : float\n",
        "        Splicing rate\n",
        "    gamma: float\n",
        "        Degradation rate \n",
        "    bs : floats\n",
        "        mean burst size\n",
        "    random_seed : int\n",
        "        set numpy.random.seed\n",
        "        \n",
        "    Returns\n",
        "    -------\n",
        "    T : ndarray\n",
        "        Time points  \n",
        "    X : ndarray\n",
        "        The value of x at time points in T\n",
        "\n",
        "    \"\"\"\n",
        "    # np.random.seed is global\n",
        "    if isinstance(random_seed, int):\n",
        "        np.random.seed(random_seed)\n",
        "\n",
        "    #np.random.seed()    \n",
        "    t=ts\n",
        "    x=x0 #system state\n",
        "    T=[]\n",
        "    X=[]\n",
        "\n",
        "    while t<te:\n",
        "        T.append(t)\n",
        "        X.append(x)\n",
        "        \n",
        "        rv=np.random.uniform(0,1,2) \n",
        "        \n",
        "        # calculate propensity functions\n",
        "        state = np.where(np.array(tau)<=t)[0][-1]\n",
        "        k = kvec[state]\n",
        "        a_cumsum=np.array([k, beta*x[0]+k, gamma*x[1]+beta*x[0]+k])\n",
        "        tau=-log(rv[0])/a_cumsum[-1]\n",
        "            \n",
        "        t=t+tau \n",
        "        \n",
        "        a_normalized=a_cumsum/a_cumsum[-1]\n",
        "        if rv[1]<= a_normalized[0]:\n",
        "            x[0]=x[0]+np.random.geometric(1/(bs+1))-1\n",
        "        elif rv[1]<= a_normalized[1]:\n",
        "            x=x+[0,-1,1]\n",
        "        else:\n",
        "            x=x+[0,0,-1]\n",
        "\n",
        "    T.append(t)\n",
        "    X.append(x)\n",
        "\n",
        "    return np.array(T), np.array(X)"
      ]
    },
    {
      "cell_type": "code",
      "execution_count": null,
      "metadata": {
        "id": "QyW8i7XNSXiI"
      },
      "outputs": [],
      "source": [
        "def Gillespie_bursty_1D(ncell, tvec, x0, kvec, tau, beta, bs, random_seed = None):\n",
        "    m = len(tvec)\n",
        "    X = np.zeros((ncell,m))\n",
        "    for i in range(ncell):\n",
        "        T, x = Gillespie_bursty_1D_single(tvec[0], tvec[-1], x0, kvec, tau, beta, bs, random_seed)\n",
        "        k=0\n",
        "        for j in range(m):\n",
        "            while T[k]<=tvec[j]:\n",
        "                k=k+1\n",
        "            X[i,j]=x[k-1]\n",
        "    return X"
      ]
    },
    {
      "cell_type": "code",
      "execution_count": null,
      "metadata": {
        "id": "omEN72z-SXiI"
      },
      "outputs": [],
      "source": [
        "k = [10,10]\n",
        "bs = 1\n",
        "T=10\n",
        "\n",
        "beta = 1\n",
        "gamma = 2\n",
        "S = np.asarray([[100],[-1]],dtype=int)\n",
        "\n",
        "kvec = np.asarray(k)\n",
        "tau = np.asarray([0,0.5])\n",
        "t = np.linspace(0,T,100)\n",
        "\n",
        "nCells = 10000"
      ]
    },
    {
      "cell_type": "code",
      "execution_count": null,
      "metadata": {
        "id": "5LHPuoKNSXiJ"
      },
      "outputs": [],
      "source": [
        "%time X = gillvec_inh(tau,kvec,beta,t,S,bs,nCells)"
      ]
    },
    {
      "cell_type": "code",
      "execution_count": null,
      "metadata": {
        "id": "xT4eRxpUSXiJ",
        "outputId": "8e9a2928-c636-4818-ea62-462344dfa7e2"
      },
      "outputs": [
        {
          "data": {
            "image/png": "[encoded data removed]",
            "text/plain": [
              "<Figure size 432x288 with 1 Axes>"
            ]
          },
          "metadata": {
            "needs_background": "light"
          },
          "output_type": "display_data"
        }
      ],
      "source": [
        "mx = X.max()\n",
        "bins = np.arange(mx)-0.5\n",
        "_=plt.hist(X[:,-1,:],bins=bins,density=True,facecolor='lightgray')\n",
        "x = np.arange(mx)\n",
        "y = scipy.stats.poisson.pmf(x,k[-1]/beta);\n",
        "plt.plot(x,y,'r.-',label='SS');"
      ]
    },
    {
      "cell_type": "code",
      "execution_count": null,
      "metadata": {
        "id": "OP5yZjqASXiJ",
        "outputId": "1b2d66c6-6ed5-4cea-fed9-b55a3cf559f6"
      },
      "outputs": [
        {
          "ename": "NameError",
          "evalue": "name 'Gillespie_bursty_1D' is not defined",
          "output_type": "error",
          "traceback": [
            "\u001b[0;31m---------------------------------------------------------------------------\u001b[0m",
            "\u001b[0;31mNameError\u001b[0m                                 Traceback (most recent call last)",
            "\u001b[0;32m<timed exec>\u001b[0m in \u001b[0;36m<module>\u001b[0;34m\u001b[0m\n",
            "\u001b[0;31mNameError\u001b[0m: name 'Gillespie_bursty_1D' is not defined"
          ]
        }
      ],
      "source": [
        "%time X_ = Gillespie_bursty_1D(ncell=10000, tvec=t, x0=0, kvec=k, tau=[0,t[-1]], beta=beta, bs=1, random_seed = None)"
      ]
    }
  ],
  "metadata": {
    "colab": {
      "name": "Poisson regression.ipynb",
      "provenance": [],
      "toc_visible": true,
      "include_colab_link": true
    },
    "kernelspec": {
      "display_name": "Python [conda env:main]",
      "language": "python",
      "name": "conda-env-main-py"
    },
    "language_info": {
      "codemirror_mode": {
        "name": "ipython",
        "version": 3
      },
      "file_extension": ".py",
      "mimetype": "text/x-python",
      "name": "python",
      "nbconvert_exporter": "python",
      "pygments_lexer": "ipython3",
      "version": "3.9.12"
    }
  },
  "nbformat": 4,
  "nbformat_minor": 0
}