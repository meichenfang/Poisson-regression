{
  "cells": [
    {
      "cell_type": "markdown",
      "metadata": {
        "id": "view-in-github",
        "colab_type": "text"
      },
      "source": [
        "<a href=\"https://colab.research.google.com/github/meichenfang/LVM/blob/main/Bursty.ipynb\" target=\"_parent\"><img src=\"https://colab.research.google.com/assets/colab-badge.svg\" alt=\"Open In Colab\"/></a>"
      ]
    },
    {
      "cell_type": "markdown",
      "metadata": {
        "id": "1100hO-K5kO2"
      },
      "source": [
        "# Introduction\n",
        "\n",
        "**Denote the gene expression matrix by $X_{ij}$ where j is gene index and i is cell index. In summary, we assume a specific model of transcription and want to solve**\n",
        "\n",
        "\\begin{align}\n",
        "    & \\text{argmax}_{\\theta_j} \\sum_{j} \\sum_i \\ln P(\\mathcal{X}_{ij},t_i; \\theta_j,\\tau).\n",
        "\\end{align}\n",
        "\n",
        "We assume t follows a uniform distribution on [0,1]. We use alternative minimization/EM-like algorithm to find optimal θ."
      ]
    },
    {
      "cell_type": "code",
      "source": [
        "import time"
      ],
      "metadata": {
        "id": "9CQ902cj9MAx"
      },
      "execution_count": 1,
      "outputs": []
    },
    {
      "cell_type": "markdown",
      "source": [
        "## Bursty version"
      ],
      "metadata": {
        "id": "dG0dU-HhW7Gq"
      }
    },
    {
      "cell_type": "code",
      "source": [
        "def neglogL_bursty(theta, x, weight,t,tau):\n",
        "    \"\"\"\n",
        "    calculte negative log likelihood for n data points of one gene\n",
        "    theta: length K+5: a_1, ..., a_K, u0, s0, beta, gamma, b\n",
        "    x: n*2 expression of one gene\n",
        "    weight: n*m\n",
        "    t: len m\n",
        "    tau: len K+1\n",
        "    return a scaler neglogL\n",
        "\n",
        "    L=np.zeros((n,m))\n",
        "    P=get_P  # m*mx[0]*mx[1]\n",
        "    L=P[:,:,x] #n\n",
        "\n",
        "    logL = np.sum(weight * log(L))\n",
        "  \n",
        "    \"\"\"\n",
        "    return - logL"
      ],
      "metadata": {
        "id": "83h7ZrWEdBGG"
      },
      "execution_count": null,
      "outputs": []
    },
    {
      "cell_type": "code",
      "source": [
        "# -*- coding: utf-8 -*-\n",
        "\n",
        "# Scientific computing imports\n",
        "import numpy as np\n",
        "from numpy.fft import irfftn\n",
        "from numpy.random import choice\n",
        "from scipy.stats import poisson, nbinom\n",
        "import matplotlib.pyplot as plt\n",
        "\n",
        "def get_P(theta, t, mx):\n",
        "    # theta = a_1,..., u0, s0, beta, gamma, b\n",
        "    K = len(theta-5)\n",
        "    b = theta[-1]\n",
        "    gamma = theta[-2]\n",
        "    beta = theta[-3]\n",
        "    \n",
        "    # Get generating function argument u\n",
        "    us = []\n",
        "    half = mx[:]\n",
        "    half[-1] = mx[-1]//2 + 1\n",
        "    half[0] = mx[0]//2 + 1\n",
        "    for i in range(len(mx)):\n",
        "        l = np.arange(half[i])\n",
        "        u_ = np.exp(-2j*np.pi*l/mx[i])-1\n",
        "        us.append(u_)\n",
        "    u = np.meshgrid(*[u_ for u_ in us], indexing='ij')\n",
        "    for i in range(len(mx)):\n",
        "        u[i] = u[i].flatten()\n",
        "    \n",
        "    # Get generating function\n",
        "    beta_0 = beta\n",
        "    beta_1 = gamma\n",
        "    \n",
        "    c0 = (g[0]) + (beta_0/(beta_1 - beta_0))*(g[1])       #  relevant linear combinations of g_i\n",
        "    c1 = - (beta_0/(beta_1 - beta_0))*(g[1])   \n",
        "    \n",
        "    min_fudge, max_fudge = 0.5, 10                                     # Determine integration time scale / length\n",
        "    dt = np.min([1/kappa, 1/theta, 1/beta_0, 1/beta_1])*min_fudge\n",
        "    t_max = np.max([1/kappa, 1/theta, 1/beta_0, 1/beta_1])*max_fudge\n",
        "    num_tsteps = int(np.ceil(t_max/dt))\n",
        "\n",
        "    t_array = np.linspace(0, t_max, num_tsteps+1)\n",
        "    t_array = t_array.reshape((1, num_tsteps + 1))\n",
        "    \n",
        "    q = np.zeros((c0.shape[0], num_tsteps + 1), dtype=np.complex64)    # initialize array to store ODE\n",
        "    c0 = c0.reshape((c0.shape[0],1))\n",
        "    c1 = c1.reshape((c1.shape[0],1))\n",
        "    q0 = theta*c0*(np.exp(-beta_0*t_array) - np.exp(-kappa*t_array))/(kappa - beta_0) \n",
        "    q1 = theta*c1*(np.exp(-beta_1*t_array) - np.exp(-kappa*t_array))/(kappa - beta_1)\n",
        "    q = q0 + q1\n",
        "\n",
        "    integrand = q/(1-q)\n",
        "    integral = np.trapz(integrand, dx=dt, axis=1)     # integrate ODE solution\n",
        "    gf = np.exp( a*integral)               # get generating function\n",
        "    \n",
        "    gf = gf.reshape(tuple(half))\n",
        "    \n",
        "    Pss = irfftn(gf, s=mx)                        # Get Pss by inverse fast Fourier transform\n",
        "    Pss = np.abs(Pss)/np.sum(np.abs(Pss))           # Normalize\n",
        "\n",
        "    lp = np.log(Pss)\n",
        "    result = np.sum(lp[data])\n",
        "    return result\n"
      ],
      "metadata": {
        "id": "zYOHgPKme_9M"
      },
      "execution_count": null,
      "outputs": []
    },
    {
      "cell_type": "markdown",
      "metadata": {
        "id": "eJPiBpDv6w4Q"
      },
      "source": [
        "# Test"
      ]
    }
  ],
  "metadata": {
    "colab": {
      "name": "Poisson regression.ipynb",
      "provenance": [],
      "authorship_tag": "ABX9TyNeeJmBnCbQIZXocybnnj4N",
      "include_colab_link": true
    },
    "kernelspec": {
      "display_name": "Python 3",
      "name": "python3"
    },
    "language_info": {
      "name": "python"
    }
  },
  "nbformat": 4,
  "nbformat_minor": 0
}